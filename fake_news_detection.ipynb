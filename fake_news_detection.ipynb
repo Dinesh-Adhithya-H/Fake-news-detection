{
  "nbformat": 4,
  "nbformat_minor": 0,
  "metadata": {
    "colab": {
      "name": "fake_news_detection.ipynb",
      "provenance": [],
      "authorship_tag": "ABX9TyObc4JJvpo/ynCeJV3FkNfJ",
      "include_colab_link": true
    },
    "kernelspec": {
      "name": "python3",
      "display_name": "Python 3"
    },
    "language_info": {
      "name": "python"
    }
  },
  "cells": [
    {
      "cell_type": "markdown",
      "metadata": {
        "id": "view-in-github",
        "colab_type": "text"
      },
      "source": [
        "<a href=\"https://colab.research.google.com/github/Dinesh-Adhithya-H/Fake-news-detection/blob/main/fake_news_detection.ipynb\" target=\"_parent\"><img src=\"https://colab.research.google.com/assets/colab-badge.svg\" alt=\"Open In Colab\"/></a>"
      ]
    },
    {
      "cell_type": "code",
      "metadata": {
        "id": "nCdbr4aeSSV8"
      },
      "source": [
        "import tensorflow as tf\n",
        "import pandas as pd\n",
        "import matplotlib.pyplot as plt\n",
        "import numpy as np"
      ],
      "execution_count": 2,
      "outputs": []
    },
    {
      "cell_type": "code",
      "metadata": {
        "colab": {
          "base_uri": "https://localhost:8080/"
        },
        "id": "DMPa3JXoaVWL",
        "outputId": "9e3d401f-0d96-412f-8288-9b6df2592e52"
      },
      "source": [
        "!wget https://github.com/Dinesh-Adhithya-H/Fake-news-detection/blob/main/news.csv?raw=true"
      ],
      "execution_count": 3,
      "outputs": [
        {
          "output_type": "stream",
          "text": [
            "--2021-04-10 04:51:33--  https://github.com/Dinesh-Adhithya-H/Fake-news-detection/blob/main/news.csv?raw=true\n",
            "Resolving github.com (github.com)... 140.82.112.3\n",
            "Connecting to github.com (github.com)|140.82.112.3|:443... connected.\n",
            "HTTP request sent, awaiting response... 302 Found\n",
            "Location: https://github.com/Dinesh-Adhithya-H/Fake-news-detection/raw/main/news.csv [following]\n",
            "--2021-04-10 04:51:33--  https://github.com/Dinesh-Adhithya-H/Fake-news-detection/raw/main/news.csv\n",
            "Reusing existing connection to github.com:443.\n",
            "HTTP request sent, awaiting response... 302 Found\n",
            "Location: https://raw.githubusercontent.com/Dinesh-Adhithya-H/Fake-news-detection/main/news.csv [following]\n",
            "--2021-04-10 04:51:33--  https://raw.githubusercontent.com/Dinesh-Adhithya-H/Fake-news-detection/main/news.csv\n",
            "Resolving raw.githubusercontent.com (raw.githubusercontent.com)... 185.199.111.133, 185.199.109.133, 185.199.110.133, ...\n",
            "Connecting to raw.githubusercontent.com (raw.githubusercontent.com)|185.199.111.133|:443... connected.\n",
            "HTTP request sent, awaiting response... 200 OK\n",
            "Length: 30696129 (29M) [text/plain]\n",
            "Saving to: ‘news.csv?raw=true’\n",
            "\n",
            "news.csv?raw=true   100%[===================>]  29.27M  --.-KB/s    in 0.1s    \n",
            "\n",
            "2021-04-10 04:51:34 (225 MB/s) - ‘news.csv?raw=true’ saved [30696129/30696129]\n",
            "\n"
          ],
          "name": "stdout"
        }
      ]
    },
    {
      "cell_type": "code",
      "metadata": {
        "id": "zL21zDAdbHEF"
      },
      "source": [
        "data=pd.read_csv(\"news.csv?raw=true\")"
      ],
      "execution_count": 4,
      "outputs": []
    },
    {
      "cell_type": "code",
      "metadata": {
        "colab": {
          "base_uri": "https://localhost:8080/",
          "height": 404
        },
        "id": "LzmafqzabLrv",
        "outputId": "7219b8d4-43eb-4429-eadf-ee4d17dba6dc"
      },
      "source": [
        "data"
      ],
      "execution_count": 5,
      "outputs": [
        {
          "output_type": "execute_result",
          "data": {
            "text/html": [
              "<div>\n",
              "<style scoped>\n",
              "    .dataframe tbody tr th:only-of-type {\n",
              "        vertical-align: middle;\n",
              "    }\n",
              "\n",
              "    .dataframe tbody tr th {\n",
              "        vertical-align: top;\n",
              "    }\n",
              "\n",
              "    .dataframe thead th {\n",
              "        text-align: right;\n",
              "    }\n",
              "</style>\n",
              "<table border=\"1\" class=\"dataframe\">\n",
              "  <thead>\n",
              "    <tr style=\"text-align: right;\">\n",
              "      <th></th>\n",
              "      <th>Unnamed: 0</th>\n",
              "      <th>title</th>\n",
              "      <th>text</th>\n",
              "      <th>label</th>\n",
              "    </tr>\n",
              "  </thead>\n",
              "  <tbody>\n",
              "    <tr>\n",
              "      <th>0</th>\n",
              "      <td>8476</td>\n",
              "      <td>You Can Smell Hillary’s Fear</td>\n",
              "      <td>Daniel Greenfield, a Shillman Journalism Fello...</td>\n",
              "      <td>FAKE</td>\n",
              "    </tr>\n",
              "    <tr>\n",
              "      <th>1</th>\n",
              "      <td>10294</td>\n",
              "      <td>Watch The Exact Moment Paul Ryan Committed Pol...</td>\n",
              "      <td>Google Pinterest Digg Linkedin Reddit Stumbleu...</td>\n",
              "      <td>FAKE</td>\n",
              "    </tr>\n",
              "    <tr>\n",
              "      <th>2</th>\n",
              "      <td>3608</td>\n",
              "      <td>Kerry to go to Paris in gesture of sympathy</td>\n",
              "      <td>U.S. Secretary of State John F. Kerry said Mon...</td>\n",
              "      <td>REAL</td>\n",
              "    </tr>\n",
              "    <tr>\n",
              "      <th>3</th>\n",
              "      <td>10142</td>\n",
              "      <td>Bernie supporters on Twitter erupt in anger ag...</td>\n",
              "      <td>— Kaydee King (@KaydeeKing) November 9, 2016 T...</td>\n",
              "      <td>FAKE</td>\n",
              "    </tr>\n",
              "    <tr>\n",
              "      <th>4</th>\n",
              "      <td>875</td>\n",
              "      <td>The Battle of New York: Why This Primary Matters</td>\n",
              "      <td>It's primary day in New York and front-runners...</td>\n",
              "      <td>REAL</td>\n",
              "    </tr>\n",
              "    <tr>\n",
              "      <th>...</th>\n",
              "      <td>...</td>\n",
              "      <td>...</td>\n",
              "      <td>...</td>\n",
              "      <td>...</td>\n",
              "    </tr>\n",
              "    <tr>\n",
              "      <th>6330</th>\n",
              "      <td>4490</td>\n",
              "      <td>State Department says it can't find emails fro...</td>\n",
              "      <td>The State Department told the Republican Natio...</td>\n",
              "      <td>REAL</td>\n",
              "    </tr>\n",
              "    <tr>\n",
              "      <th>6331</th>\n",
              "      <td>8062</td>\n",
              "      <td>The ‘P’ in PBS Should Stand for ‘Plutocratic’ ...</td>\n",
              "      <td>The ‘P’ in PBS Should Stand for ‘Plutocratic’ ...</td>\n",
              "      <td>FAKE</td>\n",
              "    </tr>\n",
              "    <tr>\n",
              "      <th>6332</th>\n",
              "      <td>8622</td>\n",
              "      <td>Anti-Trump Protesters Are Tools of the Oligarc...</td>\n",
              "      <td>Anti-Trump Protesters Are Tools of the Oligar...</td>\n",
              "      <td>FAKE</td>\n",
              "    </tr>\n",
              "    <tr>\n",
              "      <th>6333</th>\n",
              "      <td>4021</td>\n",
              "      <td>In Ethiopia, Obama seeks progress on peace, se...</td>\n",
              "      <td>ADDIS ABABA, Ethiopia —President Obama convene...</td>\n",
              "      <td>REAL</td>\n",
              "    </tr>\n",
              "    <tr>\n",
              "      <th>6334</th>\n",
              "      <td>4330</td>\n",
              "      <td>Jeb Bush Is Suddenly Attacking Trump. Here's W...</td>\n",
              "      <td>Jeb Bush Is Suddenly Attacking Trump. Here's W...</td>\n",
              "      <td>REAL</td>\n",
              "    </tr>\n",
              "  </tbody>\n",
              "</table>\n",
              "<p>6335 rows × 4 columns</p>\n",
              "</div>"
            ],
            "text/plain": [
              "      Unnamed: 0  ... label\n",
              "0           8476  ...  FAKE\n",
              "1          10294  ...  FAKE\n",
              "2           3608  ...  REAL\n",
              "3          10142  ...  FAKE\n",
              "4            875  ...  REAL\n",
              "...          ...  ...   ...\n",
              "6330        4490  ...  REAL\n",
              "6331        8062  ...  FAKE\n",
              "6332        8622  ...  FAKE\n",
              "6333        4021  ...  REAL\n",
              "6334        4330  ...  REAL\n",
              "\n",
              "[6335 rows x 4 columns]"
            ]
          },
          "metadata": {
            "tags": []
          },
          "execution_count": 5
        }
      ]
    },
    {
      "cell_type": "code",
      "metadata": {
        "id": "f5CCKCMvfGfX"
      },
      "source": [
        "vocab_size=6335\n",
        "embedding_dim=20\n",
        "max_length=2500\n",
        "trunc_type=\"post\"\n",
        "oov_tok=\"<OOV>\""
      ],
      "execution_count": 21,
      "outputs": []
    },
    {
      "cell_type": "code",
      "metadata": {
        "id": "oK3kNL1CbMUp"
      },
      "source": [
        "from tensorflow.keras.preprocessing.text import Tokenizer\n",
        "sentences=np.array(data[\"text\"])\n",
        "tokenizer=Tokenizer(num_words=vocab_size,oov_token=oov_tok)\n",
        "tokenizer.fit_on_texts(sentences)"
      ],
      "execution_count": 22,
      "outputs": []
    },
    {
      "cell_type": "code",
      "metadata": {
        "id": "GlGrOIQee_7S"
      },
      "source": [
        "word_index=tokenizer.word_index\n",
        "sequences=tokenizer.texts_to_sequences(sentences)"
      ],
      "execution_count": 23,
      "outputs": []
    },
    {
      "cell_type": "code",
      "metadata": {
        "colab": {
          "base_uri": "https://localhost:8080/",
          "height": 265
        },
        "id": "voMJhSJTmZxE",
        "outputId": "35388543-e0c6-4400-bfbf-c4b7066c4319"
      },
      "source": [
        "len_seq=[]\n",
        "for i in sequences:\n",
        "  len_seq.append(len(i))\n",
        "plt.hist(len_seq,bins=1000)\n",
        "plt.xlim(0,5000)\n",
        "plt.grid(True)\n",
        "plt.show()"
      ],
      "execution_count": 67,
      "outputs": [
        {
          "output_type": "display_data",
          "data": {
            "image/png": "[encoded data removed]",
            "text/plain": [
              "<Figure size 432x288 with 1 Axes>"
            ]
          },
          "metadata": {
            "tags": [],
            "needs_background": "light"
          }
        }
      ]
    },
    {
      "cell_type": "code",
      "metadata": {
        "id": "m95Gv2skijV3"
      },
      "source": [
        "from tensorflow.keras.preprocessing.sequence import pad_sequences\n",
        "padded=pad_sequences(sequences,padding=\"post\",maxlen=2500,truncating=\"post\")"
      ],
      "execution_count": 25,
      "outputs": []
    },
    {
      "cell_type": "code",
      "metadata": {
        "id": "0LTKOXEJz3SK"
      },
      "source": [
        "labels=[]\n",
        "for i in np.array(data[\"label\"]):\n",
        "  if i==\"FAKE\":\n",
        "    labels.append(0.0)\n",
        "  else:\n",
        "    labels.append(1.0)"
      ],
      "execution_count": 27,
      "outputs": []
    },
    {
      "cell_type": "code",
      "metadata": {
        "id": "Cgd0r1IbLnJw"
      },
      "source": [
        "from sklearn.model_selection import train_test_split\n",
        "x_train,x_test,y_train,y_test=train_test_split(padded,labels)"
      ],
      "execution_count": 40,
      "outputs": []
    },
    {
      "cell_type": "code",
      "metadata": {
        "id": "shgqvkLh11UB"
      },
      "source": [
        "x_test=x_test.tolist()\n",
        "x_train=x_train.tolist()"
      ],
      "execution_count": 41,
      "outputs": []
    },
    {
      "cell_type": "code",
      "metadata": {
        "colab": {
          "base_uri": "https://localhost:8080/"
        },
        "id": "hNlpNL8NmXnz",
        "outputId": "31c02406-f15e-454a-ee57-ba8e88074626"
      },
      "source": [
        "model=tf.keras.Sequential([\n",
        "  tf.keras.layers.Embedding(vocab_size,embedding_dim,input_length=max_length),\n",
        "  tf.keras.layers.Flatten(),\n",
        "  tf.keras.layers.Dense(6,activation=\"relu\"),\n",
        "  tf.keras.layers.Dense(1,activation=\"relu\")                        \n",
        "])\n",
        "model.compile(loss=\"binary_crossentropy\",optimizer=\"adam\",metrics=[\"accuracy\"])\n",
        "model.summary()"
      ],
      "execution_count": 44,
      "outputs": [
        {
          "output_type": "stream",
          "text": [
            "Model: \"sequential_3\"\n",
            "_________________________________________________________________\n",
            "Layer (type)                 Output Shape              Param #   \n",
            "=================================================================\n",
            "embedding_3 (Embedding)      (None, 2500, 20)          126700    \n",
            "_________________________________________________________________\n",
            "flatten_3 (Flatten)          (None, 50000)             0         \n",
            "_________________________________________________________________\n",
            "dense_6 (Dense)              (None, 6)                 300006    \n",
            "_________________________________________________________________\n",
            "dense_7 (Dense)              (None, 1)                 7         \n",
            "=================================================================\n",
            "Total params: 426,713\n",
            "Trainable params: 426,713\n",
            "Non-trainable params: 0\n",
            "_________________________________________________________________\n"
          ],
          "name": "stdout"
        }
      ]
    },
    {
      "cell_type": "code",
      "metadata": {
        "colab": {
          "base_uri": "https://localhost:8080/"
        },
        "id": "bKyOuEc6zwfN",
        "outputId": "54b21b6f-8967-4edf-feb5-ed270742bfa9"
      },
      "source": [
        "history=model.fit(x_train,y_train,epochs=10,validation_data=(x_test,y_test))"
      ],
      "execution_count": 45,
      "outputs": [
        {
          "output_type": "stream",
          "text": [
            "Epoch 1/10\n",
            "149/149 [==============================] - 16s 102ms/step - loss: 7.5368 - accuracy: 0.4911 - val_loss: 0.6572 - val_accuracy: 0.5189\n",
            "Epoch 2/10\n",
            "149/149 [==============================] - 3s 19ms/step - loss: 0.6007 - accuracy: 0.6940 - val_loss: 0.5150 - val_accuracy: 0.7986\n",
            "Epoch 3/10\n",
            "149/149 [==============================] - 3s 19ms/step - loss: 0.4305 - accuracy: 0.8198 - val_loss: 0.3066 - val_accuracy: 0.8845\n",
            "Epoch 4/10\n",
            "149/149 [==============================] - 3s 19ms/step - loss: 0.1723 - accuracy: 0.9374 - val_loss: 0.2346 - val_accuracy: 0.9299\n",
            "Epoch 5/10\n",
            "149/149 [==============================] - 3s 19ms/step - loss: 0.0733 - accuracy: 0.9859 - val_loss: 0.2394 - val_accuracy: 0.9356\n",
            "Epoch 6/10\n",
            "149/149 [==============================] - 3s 19ms/step - loss: 0.0464 - accuracy: 0.9941 - val_loss: 0.2601 - val_accuracy: 0.9451\n",
            "Epoch 7/10\n",
            "149/149 [==============================] - 3s 19ms/step - loss: 0.0407 - accuracy: 0.9936 - val_loss: 0.2673 - val_accuracy: 0.9457\n",
            "Epoch 8/10\n",
            "149/149 [==============================] - 3s 19ms/step - loss: 0.0279 - accuracy: 0.9978 - val_loss: 0.2923 - val_accuracy: 0.9470\n",
            "Epoch 9/10\n",
            "149/149 [==============================] - 3s 19ms/step - loss: 0.0160 - accuracy: 0.9989 - val_loss: 0.2922 - val_accuracy: 0.9463\n",
            "Epoch 10/10\n",
            "149/149 [==============================] - 3s 19ms/step - loss: 0.0298 - accuracy: 0.9970 - val_loss: 0.3248 - val_accuracy: 0.9438\n"
          ],
          "name": "stdout"
        }
      ]
    },
    {
      "cell_type": "code",
      "metadata": {
        "colab": {
          "base_uri": "https://localhost:8080/",
          "height": 541
        },
        "id": "IpoRGXRV1hA6",
        "outputId": "e9cf78a5-3c32-4447-8e89-a788f46ab36b"
      },
      "source": [
        "def plot_graphs(history, string):\n",
        "  plt.plot(history.history[string])\n",
        "  plt.plot(history.history['val_'+string])\n",
        "  plt.xlabel(\"Epochs\")\n",
        "  plt.ylabel(string)\n",
        "  plt.legend([string, 'val_'+string])\n",
        "  plt.show()\n",
        "  \n",
        "plot_graphs(history, \"accuracy\")\n",
        "plot_graphs(history, \"loss\")\n"
      ],
      "execution_count": 46,
      "outputs": [
        {
          "output_type": "display_data",
          "data": {
            "image/png": "[encoded data removed]",
            "text/plain": [
              "<Figure size 432x288 with 1 Axes>"
            ]
          },
          "metadata": {
            "tags": [],
            "needs_background": "light"
          }
        },
        {
          "output_type": "display_data",
          "data": {
            "image/png": "[encoded data removed]",
            "text/plain": [
              "<Figure size 432x288 with 1 Axes>"
            ]
          },
          "metadata": {
            "tags": [],
            "needs_background": "light"
          }
        }
      ]
    },
    {
      "cell_type": "code",
      "metadata": {
        "colab": {
          "base_uri": "https://localhost:8080/"
        },
        "id": "QXWyXDA8M9Fm",
        "outputId": "ae18f17d-a2cc-4ae6-e826-f7c3659897e8"
      },
      "source": [
        "e=model.layers[0]\n",
        "weights=e.get_weights()[0]\n",
        "print(weights.shape)"
      ],
      "execution_count": 49,
      "outputs": [
        {
          "output_type": "stream",
          "text": [
            "(6335, 20)\n"
          ],
          "name": "stdout"
        }
      ]
    },
    {
      "cell_type": "code",
      "metadata": {
        "id": "8gdFMT_6R4HZ"
      },
      "source": [
        "reverse_word_index=dict([(v,k) for (k,v) in word_index.items()])\n",
        "def decode_review(text):\n",
        "  return \" \".join([reverse_word_index.get(i,\"?\") for i in text])"
      ],
      "execution_count": 50,
      "outputs": []
    },
    {
      "cell_type": "code",
      "metadata": {
        "id": "vxA9xkFmQz0y"
      },
      "source": [
        "import io\n",
        "out_v=io.open(\"vecs2.tsv\",\"w\",encoding=\"utf-8\")\n",
        "out_m=io.open(\"meta2.tsv\",\"w\",encoding=\"utf-8\")\n",
        "for word_num in range(1,vocab_size):\n",
        "  word=reverse_word_index[word_num]\n",
        "  embeddings=weights[word_num]\n",
        "  out_m.write(word+\"\\n\")\n",
        "  out_v.write(\"\\t\".join([str(x) for x in embeddings])+\"\\n\")\n",
        "out_v.close()\n",
        "out_m.close()"
      ],
      "execution_count": 51,
      "outputs": []
    },
    {
      "cell_type": "code",
      "metadata": {
        "colab": {
          "base_uri": "https://localhost:8080/",
          "height": 17
        },
        "id": "4yTRyBpjR6EE",
        "outputId": "421169a3-11aa-4ec3-a00c-e17dfee06d11"
      },
      "source": [
        "from google.colab import files\n",
        "files.download(\"vecs2.tsv\")\n",
        "files.download(\"meta2.tsv\")"
      ],
      "execution_count": 53,
      "outputs": [
        {
          "output_type": "display_data",
          "data": {
            "application/javascript": [
              "\n",
              "    async function download(id, filename, size) {\n",
              "      if (!google.colab.kernel.accessAllowed) {\n",
              "        return;\n",
              "      }\n",
              "      const div = document.createElement('div');\n",
              "      const label = document.createElement('label');\n",
              "      label.textContent = `Downloading \"${filename}\": `;\n",
              "      div.appendChild(label);\n",
              "      const progress = document.createElement('progress');\n",
              "      progress.max = size;\n",
              "      div.appendChild(progress);\n",
              "      document.body.appendChild(div);\n",
              "\n",
              "      const buffers = [];\n",
              "      let downloaded = 0;\n",
              "\n",
              "      const channel = await google.colab.kernel.comms.open(id);\n",
              "      // Send a message to notify the kernel that we're ready.\n",
              "      channel.send({})\n",
              "\n",
              "      for await (const message of channel.messages) {\n",
              "        // Send a message to notify the kernel that we're ready.\n",
              "        channel.send({})\n",
              "        if (message.buffers) {\n",
              "          for (const buffer of message.buffers) {\n",
              "            buffers.push(buffer);\n",
              "            downloaded += buffer.byteLength;\n",
              "            progress.value = downloaded;\n",
              "          }\n",
              "        }\n",
              "      }\n",
              "      const blob = new Blob(buffers, {type: 'application/binary'});\n",
              "      const a = document.createElement('a');\n",
              "      a.href = window.URL.createObjectURL(blob);\n",
              "      a.download = filename;\n",
              "      div.appendChild(a);\n",
              "      a.click();\n",
              "      div.remove();\n",
              "    }\n",
              "  "
            ],
            "text/plain": [
              "<IPython.core.display.Javascript object>"
            ]
          },
          "metadata": {
            "tags": []
          }
        },
        {
          "output_type": "display_data",
          "data": {
            "application/javascript": [
              "download(\"download_7dbc22d7-1a41-493b-a72f-7d03c653c473\", \"vecs2.tsv\", 1544689)"
            ],
            "text/plain": [
              "<IPython.core.display.Javascript object>"
            ]
          },
          "metadata": {
            "tags": []
          }
        },
        {
          "output_type": "display_data",
          "data": {
            "application/javascript": [
              "\n",
              "    async function download(id, filename, size) {\n",
              "      if (!google.colab.kernel.accessAllowed) {\n",
              "        return;\n",
              "      }\n",
              "      const div = document.createElement('div');\n",
              "      const label = document.createElement('label');\n",
              "      label.textContent = `Downloading \"${filename}\": `;\n",
              "      div.appendChild(label);\n",
              "      const progress = document.createElement('progress');\n",
              "      progress.max = size;\n",
              "      div.appendChild(progress);\n",
              "      document.body.appendChild(div);\n",
              "\n",
              "      const buffers = [];\n",
              "      let downloaded = 0;\n",
              "\n",
              "      const channel = await google.colab.kernel.comms.open(id);\n",
              "      // Send a message to notify the kernel that we're ready.\n",
              "      channel.send({})\n",
              "\n",
              "      for await (const message of channel.messages) {\n",
              "        // Send a message to notify the kernel that we're ready.\n",
              "        channel.send({})\n",
              "        if (message.buffers) {\n",
              "          for (const buffer of message.buffers) {\n",
              "            buffers.push(buffer);\n",
              "            downloaded += buffer.byteLength;\n",
              "            progress.value = downloaded;\n",
              "          }\n",
              "        }\n",
              "      }\n",
              "      const blob = new Blob(buffers, {type: 'application/binary'});\n",
              "      const a = document.createElement('a');\n",
              "      a.href = window.URL.createObjectURL(blob);\n",
              "      a.download = filename;\n",
              "      div.appendChild(a);\n",
              "      a.click();\n",
              "      div.remove();\n",
              "    }\n",
              "  "
            ],
            "text/plain": [
              "<IPython.core.display.Javascript object>"
            ]
          },
          "metadata": {
            "tags": []
          }
        },
        {
          "output_type": "display_data",
          "data": {
            "application/javascript": [
              "download(\"download_22c5c923-45de-4847-8b34-5839c2df04f9\", \"meta2.tsv\", 49254)"
            ],
            "text/plain": [
              "<IPython.core.display.Javascript object>"
            ]
          },
          "metadata": {
            "tags": []
          }
        }
      ]
    },
    {
      "cell_type": "code",
      "metadata": {
        "id": "K6PXpu61R-JB"
      },
      "source": [
        "embedding_dim=64\n",
        "model1=tf.keras.Sequential([\n",
        "  tf.keras.layers.Embedding(vocab_size, embedding_dim),\n",
        "  tf.keras.layers.Bidirectional(tf.keras.layers.LSTM(64)),\n",
        "  tf.keras.layers.Dense(6,activation=\"relu\"),\n",
        "  tf.keras.layers.Dense(1,activation=\"relu\")\n",
        "])"
      ],
      "execution_count": 59,
      "outputs": []
    },
    {
      "cell_type": "code",
      "metadata": {
        "id": "5Nvo5NQdViqM"
      },
      "source": [
        "model1.compile(loss=\"binary_crossentropy\",optimizer=\"adam\",metrics=[\"accuracy\"])"
      ],
      "execution_count": 63,
      "outputs": []
    },
    {
      "cell_type": "code",
      "metadata": {
        "colab": {
          "base_uri": "https://localhost:8080/"
        },
        "id": "3iSB-7ihUmcY",
        "outputId": "fa913de3-1451-44ce-b1ca-53dd8049fd10"
      },
      "source": [
        "history1=model1.fit(x_train,y_train,epochs=10,validation_data=(x_test,y_test))"
      ],
      "execution_count": 64,
      "outputs": [
        {
          "output_type": "stream",
          "text": [
            "Epoch 1/10\n",
            "149/149 [==============================] - 486s 3s/step - loss: 0.9602 - accuracy: 0.5834 - val_loss: 0.3351 - val_accuracy: 0.8977\n",
            "Epoch 2/10\n",
            "149/149 [==============================] - 470s 3s/step - loss: 0.2876 - accuracy: 0.9241 - val_loss: 0.3321 - val_accuracy: 0.9066\n",
            "Epoch 3/10\n",
            "149/149 [==============================] - 473s 3s/step - loss: 0.1233 - accuracy: 0.9712 - val_loss: 0.3663 - val_accuracy: 0.8946\n",
            "Epoch 4/10\n",
            "149/149 [==============================] - 471s 3s/step - loss: 0.0644 - accuracy: 0.9897 - val_loss: 0.5247 - val_accuracy: 0.9122\n",
            "Epoch 5/10\n",
            "149/149 [==============================] - 477s 3s/step - loss: 0.0452 - accuracy: 0.9964 - val_loss: 0.6580 - val_accuracy: 0.9141\n",
            "Epoch 6/10\n",
            "149/149 [==============================] - 477s 3s/step - loss: 0.0421 - accuracy: 0.9967 - val_loss: 0.7015 - val_accuracy: 0.9116\n",
            "Epoch 7/10\n",
            "149/149 [==============================] - 477s 3s/step - loss: 0.0453 - accuracy: 0.9971 - val_loss: 0.6686 - val_accuracy: 0.9122\n",
            "Epoch 8/10\n",
            "149/149 [==============================] - 478s 3s/step - loss: 0.0471 - accuracy: 0.9969 - val_loss: 0.7288 - val_accuracy: 0.9078\n",
            "Epoch 9/10\n",
            "149/149 [==============================] - 479s 3s/step - loss: 0.0308 - accuracy: 0.9980 - val_loss: 0.6979 - val_accuracy: 0.9116\n",
            "Epoch 10/10\n",
            "149/149 [==============================] - 480s 3s/step - loss: 0.0445 - accuracy: 0.9971 - val_loss: 0.7172 - val_accuracy: 0.9104\n"
          ],
          "name": "stdout"
        }
      ]
    },
    {
      "cell_type": "code",
      "metadata": {
        "id": "cye6Bk21UpLe"
      },
      "source": [
        ""
      ],
      "execution_count": null,
      "outputs": []
    }
  ]
}